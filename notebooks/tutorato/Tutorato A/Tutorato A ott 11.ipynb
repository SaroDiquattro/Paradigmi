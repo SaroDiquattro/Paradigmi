{
 "cells": [
  {
   "cell_type": "markdown",
   "id": "d0d85c70",
   "metadata": {
    "cell_style": "center"
   },
   "source": [
    "# Ricorsione e liste"
   ]
  },
  {
   "cell_type": "markdown",
   "id": "05385bd2",
   "metadata": {},
   "source": [
    "## Es. 1:\n",
    "Scrivere una funzione `power b e` che calcoli **ricorsivamente** la `e`-esima potenza di `b`, cioè $b ^ e$."
   ]
  },
  {
   "cell_type": "code",
   "execution_count": 6,
   "id": "077cdae7",
   "metadata": {},
   "outputs": [
    {
     "data": {
      "text/plain": [
       "val power : int -> int -> int = <fun>\n"
      ]
     },
     "execution_count": 6,
     "metadata": {},
     "output_type": "execute_result"
    },
    {
     "data": {
      "text/plain": [
       "- : int = 32\n"
      ]
     },
     "execution_count": 6,
     "metadata": {},
     "output_type": "execute_result"
    },
    {
     "data": {
      "text/plain": [
       "val power2 : int -> int -> int = <fun>\n"
      ]
     },
     "execution_count": 6,
     "metadata": {},
     "output_type": "execute_result"
    },
    {
     "data": {
      "text/plain": [
       "- : int = 27\n"
      ]
     },
     "execution_count": 6,
     "metadata": {},
     "output_type": "execute_result"
    }
   ],
   "source": [
    "let rec power b e =  \n",
    "    match e with \n",
    "    |0 -> 1\n",
    "    |_ -> ( power b ( e-1 ) )*b;;\n",
    "    \n",
    "power 2 5;;\n",
    "\n",
    "let rec power2 b e = \n",
    " match b with\n",
    " |0 -> 0\n",
    " |b -> if e = 1 then b else b * ( power2 b ( e-1 ) );;\n",
    " \n",
    "power2 3 3;;"
   ]
  },
  {
   "cell_type": "markdown",
   "id": "8a5184f1",
   "metadata": {},
   "source": [
    "## Es. 2:\n",
    "Scrivere una funzione `sum n` che calcoli **ricorsivamente** la somma di tutti i numeri da 0 a n. Usarla poi per calcolare `sum 1000000`"
   ]
  },
  {
   "cell_type": "code",
   "execution_count": 8,
   "id": "34c93b4b",
   "metadata": {},
   "outputs": [
    {
     "data": {
      "text/plain": [
       "val sum : int -> int = <fun>\n"
      ]
     },
     "execution_count": 8,
     "metadata": {},
     "output_type": "execute_result"
    },
    {
     "data": {
      "text/plain": [
       "val sum2 : int -> int -> int = <fun>\n"
      ]
     },
     "execution_count": 8,
     "metadata": {},
     "output_type": "execute_result"
    },
    {
     "data": {
      "text/plain": [
       "- : int = 6\n"
      ]
     },
     "execution_count": 8,
     "metadata": {},
     "output_type": "execute_result"
    },
    {
     "data": {
      "text/plain": [
       "- : int = 5050\n"
      ]
     },
     "execution_count": 8,
     "metadata": {},
     "output_type": "execute_result"
    },
    {
     "data": {
      "text/plain": [
       "- : int = 500000500000\n"
      ]
     },
     "execution_count": 8,
     "metadata": {},
     "output_type": "execute_result"
    },
    {
     "ename": "error",
     "evalue": "runtime_error",
     "output_type": "error",
     "traceback": [
      "\u001b[31mStack overflow during evaluation (looping recursion?).\nRaised by primitive operation at file \"[8]\", line 4, characters 14-23\nCalled from file \"[8]\", line 4, characters 14-23\nCalled from file \"[8]\", line 4, characters 14-23\nCalled from file \"[8]\", line 4, characters 14-23\nCalled from file \"[8]\", line 4, characters 14-23\nCalled from file \"[8]\", line 4, characters 14-23\nCalled from file \"[8]\", line 4, characters 14-23\nCalled from file \"[8]\", line 4, characters 14-23\nCalled from file \"[8]\", line 4, characters 14-23\nCalled from file \"[8]\", line 4, characters 14-23\nCalled from file \"[8]\", line 4, characters 14-23\nCalled from file \"[8]\", line 4, characters 14-23\nCalled from file \"[8]\", line 4, characters 14-23\nCalled from file \"[8]\", line 4, characters 14-23\nCalled from file \"[8]\", line 4, characters 14-23\nCalled from file \"[8]\", line 4, characters 14-23\nCalled from file \"[8]\", line 4, characters 14-23\nCalled from file \"[8]\", line 4, characters 14-23\nCalled from file \"[8]\", line 4, characters 14-23\nCalled from file \"[8]\", line 4, characters 14-23\nCalled from file \"[8]\", line 4, characters 14-23\nCalled from file \"[8]\", line 4, characters 14-23\nCalled from file \"[8]\", line 4, characters 14-23\nCalled from file \"[8]\", line 4, characters 14-23\nCalled from file \"[8]\", line 4, characters 14-23\nCalled from file \"[8]\", line 4, characters 14-23\nCalled from file \"[8]\", line 4, characters 14-23\nCalled from file \"[8]\", line 4, characters 14-23\nCalled from file \"[8]\", line 4, characters 14-23\nCalled from file \"[8]\", line 4, characters 14-23\nCalled from file \"[8]\", line 4, characters 14-23\nCalled from file \"[8]\", line 4, characters 14-23\nCalled from file \"[8]\", line 4, characters 14-23\nCalled from file \"[8]\", line 4, characters 14-23\nCalled from file \"[8]\", line 4, characters 14-23\nCalled from file \"[8]\", line 4, characters 14-23\nCalled from file \"[8]\", line 4, characters 14-23\nCalled from file \"[8]\", line 4, characters 14-23\nCalled from file \"[8]\", line 4, characters 14-23\nCalled from file \"[8]\", line 4, characters 14-23\nCalled from file \"[8]\", line 4, characters 14-23\nCalled from file \"[8]\", line 4, characters 14-23\nCalled from file \"[8]\", line 4, characters 14-23\nCalled from file \"[8]\", line 4, characters 14-23\nCalled from file \"[8]\", line 4, characters 14-23\nCalled from file \"[8]\", line 4, characters 14-23\nCalled from file \"[8]\", line 4, characters 14-23\nCalled from file \"[8]\", line 4, characters 14-23\nCalled from file \"[8]\", line 4, characters 14-23\nCalled from file \"[8]\", line 4, characters 14-23\nCalled from file \"[8]\", line 4, characters 14-23\nCalled from file \"[8]\", line 4, characters 14-23\nCalled from file \"[8]\", line 4, characters 14-23\nCalled from file \"[8]\", line 4, characters 14-23\nCalled from file \"[8]\", line 4, characters 14-23\nCalled from file \"[8]\", line 4, characters 14-23\nCalled from file \"[8]\", line 4, characters 14-23\nCalled from file \"[8]\", line 4, characters 14-23\nCalled from file \"[8]\", line 4, characters 14-23\nCalled from file \"[8]\", line 4, characters 14-23\nCalled from file \"[8]\", line 4, characters 14-23\nCalled from file \"[8]\", line 4, characters 14-23\nCalled from file \"[8]\", line 4, characters 14-23\nCalled from file \"[8]\", line 4, characters 14-23\nCalled from file \"[8]\", line 4, characters 14-23\nCalled from file \"[8]\", line 4, characters 14-23\nCalled from file \"[8]\", line 4, characters 14-23\nCalled from file \"[8]\", line 4, characters 14-23\nCalled from file \"[8]\", line 4, characters 14-23\nCalled from file \"[8]\", line 4, characters 14-23\nCalled from file \"[8]\", line 4, characters 14-23\nCalled from file \"[8]\", line 4, characters 14-23\nCalled from file \"[8]\", line 4, characters 14-23\nCalled from file \"[8]\", line 4, characters 14-23\nCalled from file \"[8]\", line 4, characters 14-23\nCalled from file \"[8]\", line 4, characters 14-23\nCalled from file \"[8]\", line 4, characters 14-23\nCalled from file \"[8]\", line 4, characters 14-23\nCalled from file \"[8]\", line 4, characters 14-23\nCalled from file \"[8]\", line 4, characters 14-23\nCalled from file \"[8]\", line 4, characters 14-23\nCalled from file \"[8]\", line 4, characters 14-23\nCalled from file \"[8]\", line 4, characters 14-23\nCalled from file \"[8]\", line 4, characters 14-23\nCalled from file \"[8]\", line 4, characters 14-23\nCalled from file \"[8]\", line 4, characters 14-23\nCalled from file \"[8]\", line 4, characters 14-23\nCalled from file \"[8]\", line 4, characters 14-23\nCalled from file \"[8]\", line 4, characters 14-23\nCalled from file \"[8]\", line 4, characters 14-23\nCalled from file \"[8]\", line 4, characters 14-23\nCalled from file \"[8]\", line 4, characters 14-23\nCalled from file \"[8]\", line 4, characters 14-23\nCalled from file \"[8]\", line 4, characters 14-23\nCalled from file \"[8]\", line 4, characters 14-23\nCalled from file \"[8]\", line 4, characters 14-23\nCalled from file \"[8]\", line 4, characters 14-23\nCalled from file \"[8]\", line 4, characters 14-23\nCalled from file \"[8]\", line 4, characters 14-23\nCalled from file \"[8]\", line 4, characters 14-23\nCalled from file \"[8]\", line 4, characters 14-23\nCalled from file \"[8]\", line 4, characters 14-23\nCalled from file \"[8]\", line 4, characters 14-23\nCalled from file \"[8]\", line 4, characters 14-23\nCalled from file \"[8]\", line 4, characters 14-23\nCalled from file \"[8]\", line 4, characters 14-23\nCalled from file \"[8]\", line 4, characters 14-23\nCalled from file \"[8]\", line 4, characters 14-23\nCalled from file \"[8]\", line 4, characters 14-23\nCalled from file \"[8]\", line 4, characters 14-23\nCalled from file \"[8]\", line 4, characters 14-23\nCalled from file \"[8]\", line 4, characters 14-23\nCalled from file \"[8]\", line 4, characters 14-23\nCalled from file \"[8]\", line 4, characters 14-23\nCalled from file \"[8]\", line 4, characters 14-23\nCalled from file \"[8]\", line 4, characters 14-23\nCalled from file \"[8]\", line 4, characters 14-23\nCalled from file \"[8]\", line 4, characters 14-23\nCalled from file \"[8]\", line 4, characters 14-23\nCalled from file \"[8]\", line 4, characters 14-23\nCalled from file \"[8]\", line 4, characters 14-23\nCalled from file \"[8]\", line 4, characters 14-23\nCalled from file \"[8]\", line 4, characters 14-23\nCalled from file \"[8]\", line 4, characters 14-23\nCalled from file \"[8]\", line 4, characters 14-23\nCalled from file \"[8]\", line 4, characters 14-23\nCalled from file \"[8]\", line 4, characters 14-23\nCalled from file \"[8]\", line 4, characters 14-23\nCalled from file \"[8]\", line 4, characters 14-23\nCalled from file \"[8]\", line 4, characters 14-23\nCalled from file \"[8]\", line 4, characters 14-23\nCalled from file \"[8]\", line 4, characters 14-23\nCalled from file \"[8]\", line 4, characters 14-23\nCalled from file \"[8]\", line 4, characters 14-23\nCalled from file \"[8]\", line 4, characters 14-23\nCalled from file \"[8]\", line 4, characters 14-23\nCalled from file \"[8]\", line 4, characters 14-23\nCalled from file \"[8]\", line 4, characters 14-23\nCalled from file \"[8]\", line 4, characters 14-23\nCalled from file \"[8]\", line 4, characters 14-23\nCalled from file \"[8]\", line 4, characters 14-23\nCalled from file \"[8]\", line 4, characters 14-23\nCalled from file \"[8]\", line 4, characters 14-23\nCalled from file \"[8]\", line 4, characters 14-23\nCalled from file \"[8]\", line 4, characters 14-23\nCalled from file \"[8]\", line 4, characters 14-23\nCalled from file \"[8]\", line 4, characters 14-23\nCalled from file \"[8]\", line 4, characters 14-23\nCalled from file \"[8]\", line 4, characters 14-23\nCalled from file \"[8]\", line 4, characters 14-23\nCalled from file \"[8]\", line 4, characters 14-23\nCalled from file \"[8]\", line 4, characters 14-23\nCalled from file \"[8]\", line 4, characters 14-23\nCalled from file \"[8]\", line 4, characters 14-23\nCalled from file \"[8]\", line 4, characters 14-23\nCalled from file \"[8]\", line 4, characters 14-23\nCalled from file \"[8]\", line 4, characters 14-23\nCalled from file \"[8]\", line 4, characters 14-23\nCalled from file \"[8]\", line 4, characters 14-23\nCalled from file \"[8]\", line 4, characters 14-23\nCalled from file \"[8]\", line 4, characters 14-23\nCalled from file \"[8]\", line 4, characters 14-23\nCalled from file \"[8]\", line 4, characters 14-23\nCalled from file \"[8]\", line 4, characters 14-23\nCalled from file \"[8]\", line 4, characters 14-23\nCalled from file \"[8]\", line 4, characters 14-23\nCalled from file \"[8]\", line 4, characters 14-23\nCalled from file \"[8]\", line 4, characters 14-23\nCalled from file \"[8]\", line 4, characters 14-23\nCalled from file \"[8]\", line 4, characters 14-23\nCalled from file \"[8]\", line 4, characters 14-23\nCalled from file \"[8]\", line 4, characters 14-23\nCalled from file \"[8]\", line 4, characters 14-23\nCalled from file \"[8]\", line 4, characters 14-23\nCalled from file \"[8]\", line 4, characters 14-23\nCalled from file \"[8]\", line 4, characters 14-23\nCalled from file \"[8]\", line 4, characters 14-23\nCalled from file \"[8]\", line 4, characters 14-23\nCalled from file \"[8]\", line 4, characters 14-23\nCalled from file \"[8]\", line 4, characters 14-23\nCalled from file \"[8]\", line 4, characters 14-23\nCalled from file \"[8]\", line 4, characters 14-23\nCalled from file \"[8]\", line 4, characters 14-23\nCalled from file \"[8]\", line 4, characters 14-23\nCalled from file \"[8]\", line 4, characters 14-23\nCalled from file \"[8]\", line 4, characters 14-23\nCalled from file \"[8]\", line 4, characters 14-23\nCalled from file \"[8]\", line 4, characters 14-23\nCalled from file \"[8]\", line 4, characters 14-23\nCalled from file \"[8]\", line 4, characters 14-23\nCalled from file \"[8]\", line 4, characters 14-23\nCalled from file \"[8]\", line 4, characters 14-23\nCalled from file \"[8]\", line 4, characters 14-23\nCalled from file \"[8]\", line 4, characters 14-23\nCalled from file \"[8]\", line 4, characters 14-23\nCalled from file \"[8]\", line 4, characters 14-23\nCalled from file \"[8]\", line 4, characters 14-23\nCalled from file \"[8]\", line 4, characters 14-23\nCalled from file \"[8]\", line 4, characters 14-23\nCalled from file \"[8]\", line 4, characters 14-23\nCalled from file \"[8]\", line 4, characters 14-23\nCalled from file \"[8]\", line 4, characters 14-23\nCalled from file \"[8]\", line 4, characters 14-23\nCalled from file \"[8]\", line 4, characters 14-23\nCalled from file \"[8]\", line 4, characters 14-23\nCalled from file \"[8]\", line 4, characters 14-23\nCalled from file \"[8]\", line 4, characters 14-23\nCalled from file \"[8]\", line 4, characters 14-23\nCalled from file \"[8]\", line 4, characters 14-23\nCalled from file \"[8]\", line 4, characters 14-23\nCalled from file \"[8]\", line 4, characters 14-23\nCalled from file \"[8]\", line 4, characters 14-23\nCalled from file \"[8]\", line 4, characters 14-23\nCalled from file \"[8]\", line 4, characters 14-23\nCalled from file \"[8]\", line 4, characters 14-23\nCalled from file \"[8]\", line 4, characters 14-23\nCalled from file \"[8]\", line 4, characters 14-23\nCalled from file \"[8]\", line 4, characters 14-23\nCalled from file \"[8]\", line 4, characters 14-23\nCalled from file \"[8]\", line 4, characters 14-23\nCalled from file \"[8]\", line 4, characters 14-23\nCalled from file \"[8]\", line 4, characters 14-23\nCalled from file \"[8]\", line 4, characters 14-23\nCalled from file \"[8]\", line 4, characters 14-23\nCalled from file \"[8]\", line 4, characters 14-23\nCalled from file \"[8]\", line 4, characters 14-23\nCalled from file \"[8]\", line 4, characters 14-23\nCalled from file \"[8]\", line 4, characters 14-23\nCalled from file \"[8]\", line 4, characters 14-23\nCalled from file \"[8]\", line 4, characters 14-23\nCalled from file \"[8]\", line 4, characters 14-23\nCalled from file \"[8]\", line 4, characters 14-23\nCalled from file \"[8]\", line 4, characters 14-23\nCalled from file \"[8]\", line 4, characters 14-23\nCalled from file \"[8]\", line 4, characters 14-23\nCalled from file \"[8]\", line 4, characters 14-23\nCalled from file \"[8]\", line 4, characters 14-23\nCalled from file \"[8]\", line 4, characters 14-23\nCalled from file \"[8]\", line 4, characters 14-23\nCalled from file \"[8]\", line 4, characters 14-23\nCalled from file \"[8]\", line 4, characters 14-23\nCalled from file \"[8]\", line 4, characters 14-23\nCalled from file \"[8]\", line 4, characters 14-23\nCalled from file \"[8]\", line 4, characters 14-23\nCalled from file \"[8]\", line 4, characters 14-23\nCalled from file \"[8]\", line 4, characters 14-23\nCalled from file \"[8]\", line 4, characters 14-23\nCalled from file \"[8]\", line 4, characters 14-23\nCalled from file \"[8]\", line 4, characters 14-23\nCalled from file \"[8]\", line 4, characters 14-23\nCalled from file \"[8]\", line 4, characters 14-23\nCalled from file \"[8]\", line 4, characters 14-23\nCalled from file \"[8]\", line 4, characters 14-23\nCalled from file \"[8]\", line 4, characters 14-23\nCalled from file \"[8]\", line 4, characters 14-23\nCalled from file \"[8]\", line 4, characters 14-23\nCalled from file \"[8]\", line 4, characters 14-23\nCalled from file \"[8]\", line 4, characters 14-23\nCalled from file \"[8]\", line 4, characters 14-23\nCalled from file \"[8]\", line 4, characters 14-23\nCalled from file \"[8]\", line 4, characters 14-23\nCalled from file \"[8]\", line 4, characters 14-23\nCalled from file \"[8]\", line 4, characters 14-23\nCalled from file \"[8]\", line 4, characters 14-23\nCalled from file \"[8]\", line 4, characters 14-23\nCalled from file \"[8]\", line 4, characters 14-23\nCalled from file \"[8]\", line 4, characters 14-23\nCalled from file \"[8]\", line 4, characters 14-23\nCalled from file \"[8]\", line 4, characters 14-23\nCalled from file \"[8]\", line 4, characters 14-23\nCalled from file \"[8]\", line 4, characters 14-23\nCalled from file \"[8]\", line 4, characters 14-23\nCalled from file \"[8]\", line 4, characters 14-23\nCalled from file \"[8]\", line 4, characters 14-23\nCalled from file \"[8]\", line 4, characters 14-23\nCalled from file \"[8]\", line 4, characters 14-23\nCalled from file \"[8]\", line 4, characters 14-23\nCalled from file \"[8]\", line 4, characters 14-23\nCalled from file \"[8]\", line 4, characters 14-23\nCalled from file \"[8]\", line 4, characters 14-23\nCalled from file \"[8]\", line 4, characters 14-23\nCalled from file \"[8]\", line 4, characters 14-23\nCalled from file \"[8]\", line 4, characters 14-23\nCalled from file \"[8]\", line 4, characters 14-23\nCalled from file \"[8]\", line 4, characters 14-23\nCalled from file \"[8]\", line 4, characters 14-23\nCalled from file \"[8]\", line 4, characters 14-23\nCalled from file \"[8]\", line 4, characters 14-23\nCalled from file \"[8]\", line 4, characters 14-23\nCalled from file \"[8]\", line 4, characters 14-23\nCalled from file \"[8]\", line 4, characters 14-23\nCalled from file \"[8]\", line 4, characters 14-23\nCalled from file \"[8]\", line 4, characters 14-23\nCalled from file \"[8]\", line 4, characters 14-23\nCalled from file \"[8]\", line 4, characters 14-23\nCalled from file \"[8]\", line 4, characters 14-23\nCalled from file \"[8]\", line 4, characters 14-23\nCalled from file \"[8]\", line 4, characters 14-23\nCalled from file \"[8]\", line 4, characters 14-23\nCalled from file \"[8]\", line 4, characters 14-23\nCalled from file \"[8]\", line 4, characters 14-23\nCalled from file \"[8]\", line 4, characters 14-23\nCalled from file \"[8]\", line 4, characters 14-23\nCalled from file \"[8]\", line 4, characters 14-23\nCalled from file \"[8]\", line 4, characters 14-23\nCalled from file \"[8]\", line 4, characters 14-23\nCalled from file \"[8]\", line 4, characters 14-23\nCalled from file \"[8]\", line 4, characters 14-23\nCalled from file \"[8]\", line 4, characters 14-23\nCalled from file \"[8]\", line 4, characters 14-23\nCalled from file \"[8]\", line 4, characters 14-23\nCalled from file \"[8]\", line 4, characters 14-23\nCalled from file \"[8]\", line 4, characters 14-23\nCalled from file \"[8]\", line 4, characters 14-23\nCalled from file \"[8]\", line 4, characters 14-23\nCalled from file \"[8]\", line 4, characters 14-23\nCalled from file \"[8]\", line 4, characters 14-23\nCalled from file \"[8]\", line 4, characters 14-23\nCalled from file \"[8]\", line 4, characters 14-23\nCalled from file \"[8]\", line 4, characters 14-23\nCalled from file \"[8]\", line 4, characters 14-23\nCalled from file \"[8]\", line 4, characters 14-23\nCalled from file \"[8]\", line 4, characters 14-23\nCalled from file \"[8]\", line 4, characters 14-23\nCalled from file \"[8]\", line 4, characters 14-23\nCalled from file \"[8]\", line 4, characters 14-23\nCalled from file \"[8]\", line 4, characters 14-23\nCalled from file \"[8]\", line 4, characters 14-23\nCalled from file \"[8]\", line 4, characters 14-23\nCalled from file \"[8]\", line 4, characters 14-23\nCalled from file \"[8]\", line 4, characters 14-23\nCalled from file \"[8]\", line 4, characters 14-23\nCalled from file \"[8]\", line 4, characters 14-23\nCalled from file \"[8]\", line 4, characters 14-23\nCalled from file \"[8]\", line 4, characters 14-23\nCalled from file \"[8]\", line 4, characters 14-23\nCalled from file \"[8]\", line 4, characters 14-23\nCalled from file \"[8]\", line 4, characters 14-23\nCalled from file \"[8]\", line 4, characters 14-23\nCalled from file \"[8]\", line 4, characters 14-23\nCalled from file \"[8]\", line 4, characters 14-23\nCalled from file \"[8]\", line 4, characters 14-23\nCalled from file \"[8]\", line 4, characters 14-23\nCalled from file \"[8]\", line 4, characters 14-23\nCalled from file \"[8]\", line 4, characters 14-23\nCalled from file \"[8]\", line 4, characters 14-23\nCalled from file \"[8]\", line 4, characters 14-23\nCalled from file \"[8]\", line 4, characters 14-23\nCalled from file \"[8]\", line 4, characters 14-23\nCalled from file \"[8]\", line 4, characters 14-23\nCalled from file \"[8]\", line 4, characters 14-23\nCalled from file \"[8]\", line 4, characters 14-23\nCalled from file \"[8]\", line 4, characters 14-23\nCalled from file \"[8]\", line 4, characters 14-23\nCalled from file \"[8]\", line 4, characters 14-23\nCalled from file \"[8]\", line 4, characters 14-23\nCalled from file \"[8]\", line 4, characters 14-23\nCalled from file \"[8]\", line 4, characters 14-23\nCalled from file \"[8]\", line 4, characters 14-23\nCalled from file \"[8]\", line 4, characters 14-23\nCalled from file \"[8]\", line 4, characters 14-23\nCalled from file \"[8]\", line 4, characters 14-23\nCalled from file \"[8]\", line 4, characters 14-23\nCalled from file \"[8]\", line 4, characters 14-23\nCalled from file \"[8]\", line 4, characters 14-23\nCalled from file \"[8]\", line 4, characters 14-23\nCalled from file \"[8]\", line 4, characters 14-23\nCalled from file \"[8]\", line 4, characters 14-23\nCalled from file \"[8]\", line 4, characters 14-23\nCalled from file \"[8]\", line 4, characters 14-23\nCalled from file \"[8]\", line 4, characters 14-23\nCalled from file \"[8]\", line 4, characters 14-23\nCalled from file \"[8]\", line 4, characters 14-23\nCalled from file \"[8]\", line 4, characters 14-23\nCalled from file \"[8]\", line 4, characters 14-23\nCalled from file \"[8]\", line 4, characters 14-23\nCalled from file \"[8]\", line 4, characters 14-23\nCalled from file \"[8]\", line 4, characters 14-23\nCalled from file \"[8]\", line 4, characters 14-23\nCalled from file \"[8]\", line 4, characters 14-23\nCalled from file \"[8]\", line 4, characters 14-23\nCalled from file \"[8]\", line 4, characters 14-23\nCalled from file \"[8]\", line 4, characters 14-23\nCalled from file \"[8]\", line 4, characters 14-23\nCalled from file \"[8]\", line 4, characters 14-23\nCalled from file \"[8]\", line 4, characters 14-23\nCalled from file \"[8]\", line 4, characters 14-23\nCalled from file \"[8]\", line 4, characters 14-23\nCalled from file \"[8]\", line 4, characters 14-23\nCalled from file \"[8]\", line 4, characters 14-23\nCalled from file \"[8]\", line 4, characters 14-23\nCalled from file \"[8]\", line 4, characters 14-23\nCalled from file \"[8]\", line 4, characters 14-23\nCalled from file \"[8]\", line 4, characters 14-23\nCalled from file \"[8]\", line 4, characters 14-23\nCalled from file \"[8]\", line 4, characters 14-23\nCalled from file \"[8]\", line 4, characters 14-23\nCalled from file \"[8]\", line 4, characters 14-23\nCalled from file \"[8]\", line 4, characters 14-23\nCalled from file \"[8]\", line 4, characters 14-23\nCalled from file \"[8]\", line 4, characters 14-23\nCalled from file \"[8]\", line 4, characters 14-23\nCalled from file \"[8]\", line 4, characters 14-23\nCalled from file \"[8]\", line 4, characters 14-23\nCalled from file \"[8]\", line 4, characters 14-23\nCalled from file \"[8]\", line 4, characters 14-23\nCalled from file \"[8]\", line 4, characters 14-23\nCalled from file \"[8]\", line 4, characters 14-23\nCalled from file \"[8]\", line 4, characters 14-23\nCalled from file \"[8]\", line 4, characters 14-23\nCalled from file \"[8]\", line 4, characters 14-23\nCalled from file \"[8]\", line 4, characters 14-23\nCalled from file \"[8]\", line 4, characters 14-23\nCalled from file \"[8]\", line 4, characters 14-23\nCalled from file \"[8]\", line 4, characters 14-23\nCalled from file \"[8]\", line 4, characters 14-23\nCalled from file \"[8]\", line 4, characters 14-23\nCalled from file \"[8]\", line 4, characters 14-23\nCalled from file \"[8]\", line 4, characters 14-23\nCalled from file \"[8]\", line 4, characters 14-23\nCalled from file \"[8]\", line 4, characters 14-23\nCalled from file \"[8]\", line 4, characters 14-23\nCalled from file \"[8]\", line 4, characters 14-23\nCalled from file \"[8]\", line 4, characters 14-23\nCalled from file \"[8]\", line 4, characters 14-23\nCalled from file \"[8]\", line 4, characters 14-23\nCalled from file \"[8]\", line 4, characters 14-23\nCalled from file \"[8]\", line 4, characters 14-23\nCalled from file \"[8]\", line 4, characters 14-23\nCalled from file \"[8]\", line 4, characters 14-23\nCalled from file \"[8]\", line 4, characters 14-23\nCalled from file \"[8]\", line 4, characters 14-23\nCalled from file \"[8]\", line 4, characters 14-23\nCalled from file \"[8]\", line 4, characters 14-23\nCalled from file \"[8]\", line 4, characters 14-23\nCalled from file \"[8]\", line 4, characters 14-23\nCalled from file \"[8]\", line 4, characters 14-23\nCalled from file \"[8]\", line 4, characters 14-23\nCalled from file \"[8]\", line 4, characters 14-23\nCalled from file \"[8]\", line 4, characters 14-23\nCalled from file \"[8]\", line 4, characters 14-23\nCalled from file \"[8]\", line 4, characters 14-23\nCalled from file \"[8]\", line 4, characters 14-23\nCalled from file \"[8]\", line 4, characters 14-23\nCalled from file \"[8]\", line 4, characters 14-23\nCalled from file \"[8]\", line 4, characters 14-23\nCalled from file \"[8]\", line 4, characters 14-23\nCalled from file \"[8]\", line 4, characters 14-23\nCalled from file \"[8]\", line 4, characters 14-23\nCalled from file \"[8]\", line 4, characters 14-23\nCalled from file \"[8]\", line 4, characters 14-23\nCalled from file \"[8]\", line 4, characters 14-23\nCalled from file \"[8]\", line 4, characters 14-23\nCalled from file \"[8]\", line 4, characters 14-23\nCalled from file \"[8]\", line 4, characters 14-23\nCalled from file \"[8]\", line 4, characters 14-23\nCalled from file \"[8]\", line 4, characters 14-23\nCalled from file \"[8]\", line 4, characters 14-23\nCalled from file \"[8]\", line 4, characters 14-23\nCalled from file \"[8]\", line 4, characters 14-23\nCalled from file \"[8]\", line 4, characters 14-23\nCalled from file \"[8]\", line 4, characters 14-23\nCalled from file \"[8]\", line 4, characters 14-23\nCalled from file \"[8]\", line 4, characters 14-23\nCalled from file \"[8]\", line 4, characters 14-23\nCalled from file \"[8]\", line 4, characters 14-23\nCalled from file \"[8]\", line 4, characters 14-23\nCalled from file \"[8]\", line 4, characters 14-23\nCalled from file \"[8]\", line 4, characters 14-23\nCalled from file \"[8]\", line 4, characters 14-23\nCalled from file \"[8]\", line 4, characters 14-23\nCalled from file \"[8]\", line 4, characters 14-23\nCalled from file \"[8]\", line 4, characters 14-23\nCalled from file \"[8]\", line 4, characters 14-23\nCalled from file \"[8]\", line 4, characters 14-23\nCalled from file \"[8]\", line 4, characters 14-23\nCalled from file \"[8]\", line 4, characters 14-23\nCalled from file \"[8]\", line 4, characters 14-23\nCalled from file \"[8]\", line 4, characters 14-23\nCalled from file \"[8]\", line 4, characters 14-23\nCalled from file \"[8]\", line 4, characters 14-23\nCalled from file \"[8]\", line 4, characters 14-23\nCalled from file \"[8]\", line 4, characters 14-23\nCalled from file \"[8]\", line 4, characters 14-23\nCalled from file \"[8]\", line 4, characters 14-23\nCalled from file \"[8]\", line 4, characters 14-23\nCalled from file \"[8]\", line 4, characters 14-23\nCalled from file \"[8]\", line 4, characters 14-23\nCalled from file \"[8]\", line 4, characters 14-23\nCalled from file \"[8]\", line 4, characters 14-23\nCalled from file \"[8]\", line 4, characters 14-23\nCalled from file \"[8]\", line 4, characters 14-23\nCalled from file \"[8]\", line 4, characters 14-23\nCalled from file \"[8]\", line 4, characters 14-23\nCalled from file \"[8]\", line 4, characters 14-23\nCalled from file \"[8]\", line 4, characters 14-23\nCalled from file \"[8]\", line 4, characters 14-23\nCalled from file \"[8]\", line 4, characters 14-23\nCalled from file \"[8]\", line 4, characters 14-23\nCalled from file \"[8]\", line 4, characters 14-23\nCalled from file \"[8]\", line 4, characters 14-23\nCalled from file \"[8]\", line 4, characters 14-23\nCalled from file \"[8]\", line 4, characters 14-23\nCalled from file \"[8]\", line 4, characters 14-23\nCalled from file \"[8]\", line 4, characters 14-23\nCalled from file \"[8]\", line 4, characters 14-23\nCalled from file \"[8]\", line 4, characters 14-23\nCalled from file \"[8]\", line 4, characters 14-23\nCalled from file \"[8]\", line 4, characters 14-23\nCalled from file \"[8]\", line 4, characters 14-23\nCalled from file \"[8]\", line 4, characters 14-23\nCalled from file \"[8]\", line 4, characters 14-23\nCalled from file \"[8]\", line 4, characters 14-23\nCalled from file \"[8]\", line 4, characters 14-23\nCalled from file \"[8]\", line 4, characters 14-23\nCalled from file \"[8]\", line 4, characters 14-23\nCalled from file \"[8]\", line 4, characters 14-23\nCalled from file \"[8]\", line 4, characters 14-23\nCalled from file \"[8]\", line 4, characters 14-23\nCalled from file \"[8]\", line 4, characters 14-23\nCalled from file \"[8]\", line 4, characters 14-23\nCalled from file \"[8]\", line 4, characters 14-23\nCalled from file \"[8]\", line 4, characters 14-23\nCalled from file \"[8]\", line 4, characters 14-23\nCalled from file \"[8]\", line 4, characters 14-23\nCalled from file \"[8]\", line 4, characters 14-23\nCalled from file \"[8]\", line 4, characters 14-23\nCalled from file \"[8]\", line 4, characters 14-23\nCalled from file \"[8]\", line 4, characters 14-23\nCalled from file \"[8]\", line 4, characters 14-23\nCalled from file \"[8]\", line 4, characters 14-23\nCalled from file \"[8]\", line 4, characters 14-23\nCalled from file \"[8]\", line 4, characters 14-23\nCalled from file \"[8]\", line 4, characters 14-23\nCalled from file \"[8]\", line 4, characters 14-23\nCalled from file \"[8]\", line 4, characters 14-23\nCalled from file \"[8]\", line 4, characters 14-23\nCalled from file \"[8]\", line 4, characters 14-23\nCalled from file \"[8]\", line 4, characters 14-23\nCalled from file \"[8]\", line 4, characters 14-23\nCalled from file \"[8]\", line 4, characters 14-23\nCalled from file \"[8]\", line 4, characters 14-23\nCalled from file \"[8]\", line 4, characters 14-23\nCalled from file \"[8]\", line 4, characters 14-23\nCalled from file \"[8]\", line 4, characters 14-23\nCalled from file \"[8]\", line 4, characters 14-23\nCalled from file \"[8]\", line 4, characters 14-23\nCalled from file \"[8]\", line 4, characters 14-23\nCalled from file \"[8]\", line 4, characters 14-23\nCalled from file \"[8]\", line 4, characters 14-23\nCalled from file \"[8]\", line 4, characters 14-23\nCalled from file \"[8]\", line 4, characters 14-23\nCalled from file \"[8]\", line 4, characters 14-23\nCalled from file \"[8]\", line 4, characters 14-23\nCalled from file \"[8]\", line 4, characters 14-23\nCalled from file \"[8]\", line 4, characters 14-23\nCalled from file \"[8]\", line 4, characters 14-23\nCalled from file \"[8]\", line 4, characters 14-23\nCalled from file \"[8]\", line 4, characters 14-23\nCalled from file \"[8]\", line 4, characters 14-23\nCalled from file \"[8]\", line 4, characters 14-23\nCalled from file \"[8]\", line 4, characters 14-23\nCalled from file \"[8]\", line 4, characters 14-23\nCalled from file \"[8]\", line 4, characters 14-23\nCalled from file \"[8]\", line 4, characters 14-23\nCalled from file \"[8]\", line 4, characters 14-23\nCalled from file \"[8]\", line 4, characters 14-23\nCalled from file \"[8]\", line 4, characters 14-23\nCalled from file \"[8]\", line 4, characters 14-23\nCalled from file \"[8]\", line 4, characters 14-23\nCalled from file \"[8]\", line 4, characters 14-23\nCalled from file \"[8]\", line 4, characters 14-23\nCalled from file \"[8]\", line 4, characters 14-23\nCalled from file \"[8]\", line 4, characters 14-23\nCalled from file \"[8]\", line 4, characters 14-23\nCalled from file \"[8]\", line 4, characters 14-23\nCalled from file \"[8]\", line 4, characters 14-23\nCalled from file \"[8]\", line 4, characters 14-23\nCalled from file \"[8]\", line 4, characters 14-23\nCalled from file \"[8]\", line 4, characters 14-23\nCalled from file \"[8]\", line 4, characters 14-23\nCalled from file \"[8]\", line 4, characters 14-23\nCalled from file \"[8]\", line 4, characters 14-23\nCalled from file \"[8]\", line 4, characters 14-23\nCalled from file \"[8]\", line 4, characters 14-23\nCalled from file \"[8]\", line 4, characters 14-23\nCalled from file \"[8]\", line 4, characters 14-23\nCalled from file \"[8]\", line 4, characters 14-23\nCalled from file \"[8]\", line 4, characters 14-23\nCalled from file \"[8]\", line 4, characters 14-23\nCalled from file \"[8]\", line 4, characters 14-23\nCalled from file \"[8]\", line 4, characters 14-23\nCalled from file \"[8]\", line 4, characters 14-23\nCalled from file \"[8]\", line 4, characters 14-23\nCalled from file \"[8]\", line 4, characters 14-23\nCalled from file \"[8]\", line 4, characters 14-23\nCalled from file \"[8]\", line 4, characters 14-23\nCalled from file \"[8]\", line 4, characters 14-23\nCalled from file \"[8]\", line 4, characters 14-23\nCalled from file \"[8]\", line 4, characters 14-23\nCalled from file \"[8]\", line 4, characters 14-23\nCalled from file \"[8]\", line 4, characters 14-23\nCalled from file \"[8]\", line 4, characters 14-23\nCalled from file \"[8]\", line 4, characters 14-23\nCalled from file \"[8]\", line 4, characters 14-23\nCalled from file \"[8]\", line 4, characters 14-23\nCalled from file \"[8]\", line 4, characters 14-23\nCalled from file \"[8]\", line 4, characters 14-23\nCalled from file \"[8]\", line 4, characters 14-23\nCalled from file \"[8]\", line 4, characters 14-23\nCalled from file \"[8]\", line 4, characters 14-23\nCalled from file \"[8]\", line 4, characters 14-23\nCalled from file \"[8]\", line 4, characters 14-23\nCalled from file \"[8]\", line 4, characters 14-23\nCalled from file \"[8]\", line 4, characters 14-23\nCalled from file \"[8]\", line 4, characters 14-23\nCalled from file \"[8]\", line 4, characters 14-23\nCalled from file \"[8]\", line 4, characters 14-23\nCalled from file \"[8]\", line 4, characters 14-23\nCalled from file \"[8]\", line 4, characters 14-23\nCalled from file \"[8]\", line 4, characters 14-23\nCalled from file \"[8]\", line 4, characters 14-23\nCalled from file \"[8]\", line 4, characters 14-23\nCalled from file \"[8]\", line 4, characters 14-23\nCalled from file \"[8]\", line 4, characters 14-23\nCalled from file \"[8]\", line 4, characters 14-23\nCalled from file \"[8]\", line 4, characters 14-23\nCalled from file \"[8]\", line 4, characters 14-23\nCalled from file \"[8]\", line 4, characters 14-23\nCalled from file \"[8]\", line 4, characters 14-23\nCalled from file \"[8]\", line 4, characters 14-23\nCalled from file \"[8]\", line 4, characters 14-23\nCalled from file \"[8]\", line 4, characters 14-23\nCalled from file \"[8]\", line 4, characters 14-23\nCalled from file \"[8]\", line 4, characters 14-23\nCalled from file \"[8]\", line 4, characters 14-23\nCalled from file \"[8]\", line 4, characters 14-23\nCalled from file \"[8]\", line 4, characters 14-23\nCalled from file \"[8]\", line 4, characters 14-23\nCalled from file \"[8]\", line 4, characters 14-23\nCalled from file \"[8]\", line 4, characters 14-23\nCalled from file \"[8]\", line 4, characters 14-23\nCalled from file \"[8]\", line 4, characters 14-23\nCalled from file \"[8]\", line 4, characters 14-23\nCalled from file \"[8]\", line 4, characters 14-23\nCalled from file \"[8]\", line 4, characters 14-23\nCalled from file \"[8]\", line 4, characters 14-23\nCalled from file \"[8]\", line 4, characters 14-23\nCalled from file \"[8]\", line 4, characters 14-23\nCalled from file \"[8]\", line 4, characters 14-23\nCalled from file \"[8]\", line 4, characters 14-23\nCalled from file \"[8]\", line 4, characters 14-23\nCalled from file \"[8]\", line 4, characters 14-23\nCalled from file \"[8]\", line 4, characters 14-23\nCalled from file \"[8]\", line 4, characters 14-23\nCalled from file \"[8]\", line 4, characters 14-23\nCalled from file \"[8]\", line 4, characters 14-23\nCalled from file \"[8]\", line 4, characters 14-23\nCalled from file \"[8]\", line 4, characters 14-23\nCalled from file \"[8]\", line 4, characters 14-23\nCalled from file \"[8]\", line 4, characters 14-23\nCalled from file \"[8]\", line 4, characters 14-23\nCalled from file \"[8]\", line 4, characters 14-23\nCalled from file \"[8]\", line 4, characters 14-23\nCalled from file \"[8]\", line 4, characters 14-23\nCalled from file \"[8]\", line 4, characters 14-23\nCalled from file \"[8]\", line 4, characters 14-23\nCalled from file \"[8]\", line 4, characters 14-23\nCalled from file \"[8]\", line 4, characters 14-23\nCalled from file \"[8]\", line 4, characters 14-23\nCalled from file \"[8]\", line 4, characters 14-23\nCalled from file \"[8]\", line 4, characters 14-23\nCalled from file \"[8]\", line 4, characters 14-23\nCalled from file \"[8]\", line 4, characters 14-23\nCalled from file \"[8]\", line 4, characters 14-23\nCalled from file \"[8]\", line 4, characters 14-23\nCalled from file \"[8]\", line 4, characters 14-23\nCalled from file \"[8]\", line 4, characters 14-23\nCalled from file \"[8]\", line 4, characters 14-23\nCalled from file \"[8]\", line 4, characters 14-23\nCalled from file \"[8]\", line 4, characters 14-23\nCalled from file \"[8]\", line 4, characters 14-23\nCalled from file \"[8]\", line 4, characters 14-23\nCalled from file \"[8]\", line 4, characters 14-23\nCalled from file \"[8]\", line 4, characters 14-23\nCalled from file \"[8]\", line 4, characters 14-23\nCalled from file \"[8]\", line 4, characters 14-23\nCalled from file \"[8]\", line 4, characters 14-23\nCalled from file \"[8]\", line 4, characters 14-23\nCalled from file \"[8]\", line 4, characters 14-23\nCalled from file \"[8]\", line 4, characters 14-23\nCalled from file \"[8]\", line 4, characters 14-23\nCalled from file \"[8]\", line 4, characters 14-23\nCalled from file \"[8]\", line 4, characters 14-23\nCalled from file \"[8]\", line 4, characters 14-23\nCalled from file \"[8]\", line 4, characters 14-23\nCalled from file \"[8]\", line 4, characters 14-23\nCalled from file \"[8]\", line 4, characters 14-23\nCalled from file \"[8]\", line 4, characters 14-23\nCalled from file \"[8]\", line 4, characters 14-23\nCalled from file \"[8]\", line 4, characters 14-23\nCalled from file \"[8]\", line 4, characters 14-23\nCalled from file \"[8]\", line 4, characters 14-23\nCalled from file \"[8]\", line 4, characters 14-23\nCalled from file \"[8]\", line 4, characters 14-23\nCalled from file \"[8]\", line 4, characters 14-23\nCalled from file \"[8]\", line 4, characters 14-23\nCalled from file \"[8]\", line 4, characters 14-23\nCalled from file \"[8]\", line 4, characters 14-23\nCalled from file \"[8]\", line 4, characters 14-23\nCalled from file \"[8]\", line 4, characters 14-23\nCalled from file \"[8]\", line 4, characters 14-23\nCalled from file \"[8]\", line 4, characters 14-23\nCalled from file \"[8]\", line 4, characters 14-23\nCalled from file \"[8]\", line 4, characters 14-23\nCalled from file \"[8]\", line 4, characters 14-23\nCalled from file \"[8]\", line 4, characters 14-23\nCalled from file \"[8]\", line 4, characters 14-23\nCalled from file \"[8]\", line 4, characters 14-23\nCalled from file \"[8]\", line 4, characters 14-23\nCalled from file \"[8]\", line 4, characters 14-23\nCalled from file \"[8]\", line 4, characters 14-23\nCalled from file \"[8]\", line 4, characters 14-23\nCalled from file \"[8]\", line 4, characters 14-23\nCalled from file \"[8]\", line 4, characters 14-23\nCalled from file \"[8]\", line 4, characters 14-23\nCalled from file \"[8]\", line 4, characters 14-23\nCalled from file \"[8]\", line 4, characters 14-23\nCalled from file \"[8]\", line 4, characters 14-23\nCalled from file \"[8]\", line 4, characters 14-23\nCalled from file \"[8]\", line 4, characters 14-23\nCalled from file \"[8]\", line 4, characters 14-23\nCalled from file \"[8]\", line 4, characters 14-23\nCalled from file \"[8]\", line 4, characters 14-23\nCalled from file \"[8]\", line 4, characters 14-23\nCalled from file \"[8]\", line 4, characters 14-23\nCalled from file \"[8]\", line 4, characters 14-23\nCalled from file \"[8]\", line 4, characters 14-23\nCalled from file \"[8]\", line 4, characters 14-23\nCalled from file \"[8]\", line 4, characters 14-23\nCalled from file \"[8]\", line 4, characters 14-23\nCalled from file \"[8]\", line 4, characters 14-23\nCalled from file \"[8]\", line 4, characters 14-23\nCalled from file \"[8]\", line 4, characters 14-23\nCalled from file \"[8]\", line 4, characters 14-23\nCalled from file \"[8]\", line 4, characters 14-23\nCalled from file \"[8]\", line 4, characters 14-23\nCalled from file \"[8]\", line 4, characters 14-23\nCalled from file \"[8]\", line 4, characters 14-23\nCalled from file \"[8]\", line 4, characters 14-23\nCalled from file \"[8]\", line 4, characters 14-23\nCalled from file \"[8]\", line 4, characters 14-23\nCalled from file \"[8]\", line 4, characters 14-23\nCalled from file \"[8]\", line 4, characters 14-23\nCalled from file \"[8]\", line 4, characters 14-23\nCalled from file \"[8]\", line 4, characters 14-23\nCalled from file \"[8]\", line 4, characters 14-23\nCalled from file \"[8]\", line 4, characters 14-23\nCalled from file \"[8]\", line 4, characters 14-23\nCalled from file \"[8]\", line 4, characters 14-23\nCalled from file \"[8]\", line 4, characters 14-23\nCalled from file \"[8]\", line 4, characters 14-23\nCalled from file \"[8]\", line 4, characters 14-23\nCalled from file \"[8]\", line 4, characters 14-23\nCalled from file \"[8]\", line 4, characters 14-23\nCalled from file \"[8]\", line 4, characters 14-23\nCalled from file \"[8]\", line 4, characters 14-23\nCalled from file \"[8]\", line 4, characters 14-23\nCalled from file \"[8]\", line 4, characters 14-23\nCalled from file \"[8]\", line 4, characters 14-23\nCalled from file \"[8]\", line 4, characters 14-23\nCalled from file \"[8]\", line 4, characters 14-23\nCalled from file \"[8]\", line 4, characters 14-23\nCalled from file \"[8]\", line 4, characters 14-23\nCalled from file \"[8]\", line 4, characters 14-23\nCalled from file \"[8]\", line 4, characters 14-23\nCalled from file \"[8]\", line 4, characters 14-23\nCalled from file \"[8]\", line 4, characters 14-23\nCalled from file \"[8]\", line 4, characters 14-23\nCalled from file \"[8]\", line 4, characters 14-23\nCalled from file \"[8]\", line 4, characters 14-23\nCalled from file \"[8]\", line 4, characters 14-23\nCalled from file \"[8]\", line 4, characters 14-23\nCalled from file \"[8]\", line 4, characters 14-23\nCalled from file \"[8]\", line 4, characters 14-23\nCalled from file \"[8]\", line 4, characters 14-23\nCalled from file \"[8]\", line 4, characters 14-23\nCalled from file \"[8]\", line 4, characters 14-23\nCalled from file \"[8]\", line 4, characters 14-23\nCalled from file \"[8]\", line 4, characters 14-23\nCalled from file \"[8]\", line 4, characters 14-23\nCalled from file \"[8]\", line 4, characters 14-23\nCalled from file \"[8]\", line 4, characters 14-23\nCalled from file \"[8]\", line 4, characters 14-23\nCalled from file \"[8]\", line 4, characters 14-23\nCalled from file \"[8]\", line 4, characters 14-23\nCalled from file \"[8]\", line 4, characters 14-23\nCalled from file \"[8]\", line 4, characters 14-23\nCalled from file \"[8]\", line 4, characters 14-23\nCalled from file \"[8]\", line 4, characters 14-23\nCalled from file \"[8]\", line 4, characters 14-23\nCalled from file \"[8]\", line 4, characters 14-23\nCalled from file \"[8]\", line 4, characters 14-23\nCalled from file \"[8]\", line 4, characters 14-23\nCalled from file \"[8]\", line 4, characters 14-23\nCalled from file \"[8]\", line 4, characters 14-23\nCalled from file \"[8]\", line 4, characters 14-23\nCalled from file \"[8]\", line 4, characters 14-23\nCalled from file \"[8]\", line 4, characters 14-23\nCalled from file \"[8]\", line 4, characters 14-23\nCalled from file \"[8]\", line 4, characters 14-23\nCalled from file \"[8]\", line 4, characters 14-23\nCalled from file \"[8]\", line 4, characters 14-23\nCalled from file \"[8]\", line 4, characters 14-23\nCalled from file \"[8]\", line 4, characters 14-23\nCalled from file \"[8]\", line 4, characters 14-23\nCalled from file \"[8]\", line 4, characters 14-23\nCalled from file \"[8]\", line 4, characters 14-23\nCalled from file \"[8]\", line 4, characters 14-23\nCalled from file \"[8]\", line 4, characters 14-23\nCalled from file \"[8]\", line 4, characters 14-23\nCalled from file \"[8]\", line 4, characters 14-23\nCalled from file \"[8]\", line 4, characters 14-23\nCalled from file \"[8]\", line 4, characters 14-23\nCalled from file \"[8]\", line 4, characters 14-23\nCalled from file \"[8]\", line 4, characters 14-23\nCalled from file \"[8]\", line 4, characters 14-23\nCalled from file \"[8]\", line 4, characters 14-23\nCalled from file \"[8]\", line 4, characters 14-23\nCalled from file \"[8]\", line 4, characters 14-23\nCalled from file \"[8]\", line 4, characters 14-23\nCalled from file \"[8]\", line 4, characters 14-23\nCalled from file \"[8]\", line 4, characters 14-23\nCalled from file \"[8]\", line 4, characters 14-23\nCalled from file \"[8]\", line 4, characters 14-23\nCalled from file \"[8]\", line 4, characters 14-23\nCalled from file \"[8]\", line 4, characters 14-23\nCalled from file \"[8]\", line 4, characters 14-23\nCalled from file \"[8]\", line 4, characters 14-23\nCalled from file \"[8]\", line 4, characters 14-23\nCalled from file \"[8]\", line 4, characters 14-23\nCalled from file \"[8]\", line 4, characters 14-23\nCalled from file \"[8]\", line 4, characters 14-23\nCalled from file \"[8]\", line 4, characters 14-23\nCalled from file \"[8]\", line 4, characters 14-23\nCalled from file \"[8]\", line 4, characters 14-23\nCalled from file \"[8]\", line 4, characters 14-23\nCalled from file \"[8]\", line 4, characters 14-23\nCalled from file \"[8]\", line 4, characters 14-23\nCalled from file \"[8]\", line 4, characters 14-23\nCalled from file \"[8]\", line 4, characters 14-23\nCalled from file \"[8]\", line 4, characters 14-23\nCalled from file \"[8]\", line 4, characters 14-23\nCalled from file \"[8]\", line 4, characters 14-23\nCalled from file \"[8]\", line 4, characters 14-23\nCalled from file \"[8]\", line 4, characters 14-23\nCalled from file \"[8]\", line 4, characters 14-23\nCalled from file \"[8]\", line 4, characters 14-23\nCalled from file \"[8]\", line 4, characters 14-23\nCalled from file \"[8]\", line 4, characters 14-23\nCalled from file \"[8]\", line 4, characters 14-23\nCalled from file \"[8]\", line 4, characters 14-23\nCalled from file \"[8]\", line 4, characters 14-23\nCalled from file \"[8]\", line 4, characters 14-23\nCalled from file \"[8]\", line 4, characters 14-23\nCalled from file \"[8]\", line 4, characters 14-23\nCalled from file \"[8]\", line 4, characters 14-23\nCalled from file \"[8]\", line 4, characters 14-23\nCalled from file \"[8]\", line 4, characters 14-23\nCalled from file \"[8]\", line 4, characters 14-23\nCalled from file \"[8]\", line 4, characters 14-23\nCalled from file \"[8]\", line 4, characters 14-23\nCalled from file \"[8]\", line 4, characters 14-23\nCalled from file \"[8]\", line 4, characters 14-23\nCalled from file \"[8]\", line 4, characters 14-23\nCalled from file \"[8]\", line 4, characters 14-23\nCalled from file \"[8]\", line 4, characters 14-23\nCalled from file \"[8]\", line 4, characters 14-23\nCalled from file \"[8]\", line 4, characters 14-23\nCalled from file \"[8]\", line 4, characters 14-23\nCalled from file \"[8]\", line 4, characters 14-23\nCalled from file \"[8]\", line 4, characters 14-23\nCalled from file \"[8]\", line 4, characters 14-23\nCalled from file \"[8]\", line 4, characters 14-23\nCalled from file \"[8]\", line 4, characters 14-23\nCalled from file \"[8]\", line 4, characters 14-23\nCalled from file \"[8]\", line 4, characters 14-23\nCalled from file \"[8]\", line 4, characters 14-23\nCalled from file \"[8]\", line 4, characters 14-23\nCalled from file \"[8]\", line 4, characters 14-23\nCalled from file \"[8]\", line 4, characters 14-23\nCalled from file \"[8]\", line 4, characters 14-23\nCalled from file \"[8]\", line 4, characters 14-23\nCalled from file \"[8]\", line 4, characters 14-23\nCalled from file \"[8]\", line 4, characters 14-23\nCalled from file \"[8]\", line 4, characters 14-23\nCalled from file \"[8]\", line 4, characters 14-23\nCalled from file \"[8]\", line 4, characters 14-23\nCalled from file \"[8]\", line 4, characters 14-23\nCalled from file \"[8]\", line 4, characters 14-23\nCalled from file \"[8]\", line 4, characters 14-23\nCalled from file \"[8]\", line 4, characters 14-23\nCalled from file \"[8]\", line 4, characters 14-23\nCalled from file \"[8]\", line 4, characters 14-23\nCalled from file \"[8]\", line 4, characters 14-23\nCalled from file \"[8]\", line 4, characters 14-23\nCalled from file \"[8]\", line 4, characters 14-23\nCalled from file \"[8]\", line 4, characters 14-23\nCalled from file \"[8]\", line 4, characters 14-23\nCalled from file \"[8]\", line 4, characters 14-23\nCalled from file \"[8]\", line 4, characters 14-23\nCalled from file \"[8]\", line 4, characters 14-23\nCalled from file \"[8]\", line 4, characters 14-23\nCalled from file \"[8]\", line 4, characters 14-23\nCalled from file \"[8]\", line 4, characters 14-23\nCalled from file \"[8]\", line 4, characters 14-23\nCalled from file \"[8]\", line 4, characters 14-23\nCalled from file \"[8]\", line 4, characters 14-23\nCalled from file \"[8]\", line 4, characters 14-23\nCalled from file \"[8]\", line 4, characters 14-23\nCalled from file \"[8]\", line 4, characters 14-23\nCalled from file \"[8]\", line 4, characters 14-23\nCalled from file \"[8]\", line 4, characters 14-23\nCalled from file \"[8]\", line 4, characters 14-23\nCalled from file \"[8]\", line 4, characters 14-23\nCalled from file \"[8]\", line 4, characters 14-23\nCalled from file \"[8]\", line 4, characters 14-23\nCalled from file \"[8]\", line 4, characters 14-23\nCalled from file \"[8]\", line 4, characters 14-23\nCalled from file \"[8]\", line 4, characters 14-23\nCalled from file \"[8]\", line 4, characters 14-23\nCalled from file \"[8]\", line 4, characters 14-23\nCalled from file \"[8]\", line 4, characters 14-23\nCalled from file \"[8]\", line 4, characters 14-23\nCalled from file \"[8]\", line 4, characters 14-23\nCalled from file \"[8]\", line 4, characters 14-23\nCalled from file \"[8]\", line 4, characters 14-23\nCalled from file \"[8]\", line 4, characters 14-23\nCalled from file \"[8]\", line 4, characters 14-23\nCalled from file \"[8]\", line 4, characters 14-23\nCalled from file \"[8]\", line 4, characters 14-23\nCalled from file \"[8]\", line 4, characters 14-23\nCalled from file \"[8]\", line 4, characters 14-23\nCalled from file \"[8]\", line 4, characters 14-23\nCalled from file \"[8]\", line 4, characters 14-23\nCalled from file \"[8]\", line 4, characters 14-23\nCalled from file \"[8]\", line 4, characters 14-23\nCalled from file \"[8]\", line 4, characters 14-23\nCalled from file \"[8]\", line 4, characters 14-23\nCalled from file \"[8]\", line 4, characters 14-23\nCalled from file \"[8]\", line 4, characters 14-23\nCalled from file \"[8]\", line 4, characters 14-23\nCalled from file \"[8]\", line 4, characters 14-23\nCalled from file \"[8]\", line 4, characters 14-23\nCalled from file \"[8]\", line 4, characters 14-23\nCalled from file \"[8]\", line 4, characters 14-23\nCalled from file \"[8]\", line 4, characters 14-23\nCalled from file \"[8]\", line 4, characters 14-23\nCalled from file \"[8]\", line 4, characters 14-23\nCalled from file \"[8]\", line 4, characters 14-23\nCalled from file \"[8]\", line 4, characters 14-23\nCalled from file \"[8]\", line 4, characters 14-23\nCalled from file \"[8]\", line 4, characters 14-23\nCalled from file \"[8]\", line 4, characters 14-23\nCalled from file \"[8]\", line 4, characters 14-23\nCalled from file \"[8]\", line 4, characters 14-23\nCalled from file \"[8]\", line 4, characters 14-23\nCalled from file \"[8]\", line 4, characters 14-23\nCalled from file \"[8]\", line 4, characters 14-23\nCalled from file \"[8]\", line 4, characters 14-23\nCalled from file \"[8]\", line 4, characters 14-23\nCalled from file \"[8]\", line 4, characters 14-23\nCalled from file \"[8]\", line 4, characters 14-23\nCalled from file \"[8]\", line 4, characters 14-23\nCalled from file \"[8]\", line 4, characters 14-23\nCalled from file \"[8]\", line 4, characters 14-23\nCalled from file \"[8]\", line 4, characters 14-23\nCalled from file \"[8]\", line 4, characters 14-23\nCalled from file \"[8]\", line 4, characters 14-23\nCalled from file \"[8]\", line 4, characters 14-23\nCalled from file \"[8]\", line 4, characters 14-23\nCalled from file \"[8]\", line 4, characters 14-23\nCalled from file \"[8]\", line 4, characters 14-23\nCalled from file \"[8]\", line 4, characters 14-23\nCalled from file \"[8]\", line 4, characters 14-23\nCalled from file \"[8]\", line 4, characters 14-23\nCalled from file \"[8]\", line 4, characters 14-23\nCalled from file \"[8]\", line 4, characters 14-23\nCalled from file \"[8]\", line 4, characters 14-23\nCalled from file \"[8]\", line 4, characters 14-23\nCalled from file \"[8]\", line 4, characters 14-23\nCalled from file \"[8]\", line 4, characters 14-23\nCalled from file \"[8]\", line 4, characters 14-23\nCalled from file \"[8]\", line 4, characters 14-23\nCalled from file \"[8]\", line 4, characters 14-23\nCalled from file \"[8]\", line 4, characters 14-23\nCalled from file \"[8]\", line 4, characters 14-23\nCalled from file \"[8]\", line 4, characters 14-23\nCalled from file \"[8]\", line 4, characters 14-23\nCalled from file \"[8]\", line 4, characters 14-23\nCalled from file \"[8]\", line 4, characters 14-23\nCalled from file \"[8]\", line 4, characters 14-23\nCalled from file \"[8]\", line 4, characters 14-23\nCalled from file \"[8]\", line 4, characters 14-23\nCalled from file \"[8]\", line 4, characters 14-23\nCalled from file \"[8]\", line 4, characters 14-23\nCalled from file \"[8]\", line 4, characters 14-23\nCalled from file \"[8]\", line 4, characters 14-23\nCalled from file \"[8]\", line 4, characters 14-23\nCalled from file \"[8]\", line 4, characters 14-23\nCalled from file \"[8]\", line 4, characters 14-23\nCalled from file \"[8]\", line 4, characters 14-23\nCalled from file \"[8]\", line 4, characters 14-23\nCalled from file \"[8]\", line 4, characters 14-23\nCalled from file \"[8]\", line 4, characters 14-23\nCalled from file \"[8]\", line 4, characters 14-23\nCalled from file \"[8]\", line 4, characters 14-23\nCalled from file \"[8]\", line 4, characters 14-23\nCalled from file \"[8]\", line 4, characters 14-23\nCalled from file \"[8]\", line 4, characters 14-23\nCalled from file \"[8]\", line 4, characters 14-23\nCalled from file \"[8]\", line 4, characters 14-23\nCalled from file \"[8]\", line 4, characters 14-23\nCalled from file \"[8]\", line 4, characters 14-23\n\u001b[0m"
     ]
    }
   ],
   "source": [
    "let rec sum n =\n",
    "    match n with\n",
    "    |1 -> 1\n",
    "    |_ -> n + sum (n-1);;\n",
    "    \n",
    "let rec sum2 n acc =\n",
    "    match n with\n",
    "    |0 -> acc\n",
    "    |n -> sum2 ( n-1 ) ( acc + n ) ;;\n",
    "    \n",
    "sum 3;;\n",
    "sum 100;;\n",
    "sum2 1000000 0;;\n",
    "sum 1000000;; (* Problema di Stack Overflow *)\n"
   ]
  },
  {
   "cell_type": "markdown",
   "id": "ec9a521c",
   "metadata": {},
   "source": [
    "## Es. 3:\n",
    "Scrivere una funzione `sum_squares l` che prende una lista  `l` e restituisce la somma dei quadrati degli elementi di `l`\n",
    "\n",
    "    sum_squares [2; 1; 5; 3] = 39"
   ]
  },
  {
   "cell_type": "code",
   "execution_count": 13,
   "id": "fdffa509",
   "metadata": {},
   "outputs": [
    {
     "data": {
      "text/plain": [
       "val sum_squares : int list -> int = <fun>\n"
      ]
     },
     "execution_count": 13,
     "metadata": {},
     "output_type": "execute_result"
    },
    {
     "data": {
      "text/plain": [
       "- : int = 39\n"
      ]
     },
     "execution_count": 13,
     "metadata": {},
     "output_type": "execute_result"
    }
   ],
   "source": [
    "let rec sum_squares l = \n",
    "    match l with\n",
    "    |[] -> 0\n",
    "    |x :: xs -> x * x + sum_squares xs;;\n",
    "    \n",
    "sum_squares [2; 1; 5; 3];;"
   ]
  },
  {
   "cell_type": "markdown",
   "id": "484fafa7",
   "metadata": {},
   "source": [
    "## Es. 4: \n",
    "\n",
    "Scrivere una funzione `drop_evens l` che prende una lista di interi `l` e scarta tutti gli elementi di `l` con valore pari.\n",
    "\n",
    "    drop_evens [1; 2; 3; 17; 42] = [1; 3; 17]"
   ]
  },
  {
   "cell_type": "code",
   "execution_count": 24,
   "id": "4d5fd406",
   "metadata": {},
   "outputs": [
    {
     "data": {
      "text/plain": [
       "val drop_evens : int list -> int list = <fun>\n"
      ]
     },
     "execution_count": 24,
     "metadata": {},
     "output_type": "execute_result"
    },
    {
     "data": {
      "text/plain": [
       "- : int list = [1; 3; 17]\n"
      ]
     },
     "execution_count": 24,
     "metadata": {},
     "output_type": "execute_result"
    }
   ],
   "source": [
    "let rec drop_evens l =\n",
    "    match l with\n",
    "    |[] -> []\n",
    "    |x :: xs -> if ( x mod 2 != 0 ) then ( x::drop_evens xs ) else drop_evens xs;;\n",
    "\n",
    "drop_evens [1; 2; 3; 17; 42];;"
   ]
  },
  {
   "cell_type": "markdown",
   "id": "e3426c05",
   "metadata": {},
   "source": [
    "## Es. 5:\n",
    "Scrivere una funzione `ordered l` che restituisca `true` se e solo se `l` è una lista ordinata.\n",
    "\n",
    "    ordered [1; 2; 4; 10] = true\n",
    "    ordered [1; 3; 2; 10] = false"
   ]
  },
  {
   "cell_type": "code",
   "execution_count": 6,
   "id": "a3763241",
   "metadata": {},
   "outputs": [
    {
     "data": {
      "text/plain": [
       "val ordered : 'a list -> bool = <fun>\n"
      ]
     },
     "execution_count": 6,
     "metadata": {},
     "output_type": "execute_result"
    },
    {
     "data": {
      "text/plain": [
       "- : bool = true\n"
      ]
     },
     "execution_count": 6,
     "metadata": {},
     "output_type": "execute_result"
    },
    {
     "data": {
      "text/plain": [
       "- : bool = false\n"
      ]
     },
     "execution_count": 6,
     "metadata": {},
     "output_type": "execute_result"
    }
   ],
   "source": [
    "let rec ordered l =\n",
    "    match l with\n",
    "    |[] -> true\n",
    "    |x::[] -> true\n",
    "    |x::y::xs -> if ( x <= y ) then ( ordered ( y::xs ) ) else false;;\n",
    "    \n",
    "ordered [1; 2; 4; 10];;\n",
    "ordered [1; 3; 2; 10];;"
   ]
  },
  {
   "cell_type": "code",
   "execution_count": null,
   "id": "29178e2f",
   "metadata": {},
   "outputs": [],
   "source": []
  },
  {
   "cell_type": "code",
   "execution_count": null,
   "id": "59229fbc",
   "metadata": {},
   "outputs": [],
   "source": []
  }
 ],
 "metadata": {
  "kernelspec": {
   "display_name": "OCaml default",
   "language": "OCaml",
   "name": "ocaml-jupyter"
  },
  "language_info": {
   "codemirror_mode": "text/x-ocaml",
   "file_extension": ".ml",
   "mimetype": "text/x-ocaml",
   "name": "OCaml",
   "nbconverter_exporter": null,
   "pygments_lexer": "OCaml",
   "version": "4.08.1"
  }
 },
 "nbformat": 4,
 "nbformat_minor": 5
}
