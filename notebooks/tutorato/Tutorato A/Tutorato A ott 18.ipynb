{
 "cells": [
  {
   "cell_type": "markdown",
   "id": "e9240ba0",
   "metadata": {
    "slideshow": {
     "slide_type": "slide"
    }
   },
   "source": [
    "# Fold right e Fold left"
   ]
  },
  {
   "cell_type": "markdown",
   "id": "66dfe090",
   "metadata": {
    "slideshow": {
     "slide_type": "fragment"
    }
   },
   "source": [
    "Spesso si vuole elaborare tutti gli elementi della lista per calcolare un unico risultato\n",
    "\n",
    "Ad esempio:\n",
    "\n",
    "* Calcolare la *somma* degli elementi di una lista\n",
    "* Calcolare *minimo e massimo* di una lista\n",
    "* *Concatenare tutti gli elementi* di una lista di stringhe"
   ]
  },
  {
   "cell_type": "markdown",
   "id": "42531a4b",
   "metadata": {
    "slideshow": {
     "slide_type": "slide"
    }
   },
   "source": [
    "Intuitivamente, queste elaborazioni richiedono di scandire la lista portandosi dietro una o più variabili che memorizzano il *risultato parziale* via via calcolato\n",
    "\n",
    "Ad esempio, nell'approccio imperativo (in JavaScript e con array...) useremmo un `for`:\n",
    "\n",
    "```\n",
    "function somma(a) {\n",
    "    var s = 0\n",
    "    for (var i in a)\n",
    "        s += a[i] \n",
    "    return s\n",
    "}\n",
    "```\n",
    "Lo stesso per calcolare minimo e massimo, concatenare tutti gli elementi, ecc..."
   ]
  },
  {
   "cell_type": "markdown",
   "id": "ca3fe491",
   "metadata": {
    "slideshow": {
     "slide_type": "fragment"
    }
   },
   "source": [
    "L'importante è capire:\n",
    "\n",
    "* che variabili \"portarsi dietro\" nel ciclo\n",
    "* come aggiornarle ad ogni iterazione"
   ]
  },
  {
   "cell_type": "markdown",
   "id": "7d2a55fb",
   "metadata": {
    "slideshow": {
     "slide_type": "slide"
    }
   },
   "source": [
    "Anche seguendo un approccio *ricorsivo*, nella scansione di una lista è fondamentale capire come portarsi dietro il risultato parziale e come aggiornalo con l'elemento in questione.\n",
    "\n",
    "Il risultato parziale non sarà memorizzato in una variabile, ma passato da una chiamata all'altra come parametro o valore di ritorno"
   ]
  },
  {
   "cell_type": "code",
   "execution_count": null,
   "id": "78c47082",
   "metadata": {
    "slideshow": {
     "slide_type": "-"
    }
   },
   "outputs": [],
   "source": [
    "let rec somma lis =\n",
    "    match lis with\n",
    "    | [] -> 0\n",
    "    | x::lis' -> x + somma lis' ;;\n",
    "    \n",
    "somma [3;2;4] ;;"
   ]
  },
  {
   "cell_type": "markdown",
   "id": "e55167e0",
   "metadata": {},
   "source": [
    "Che succede se cambio il caso base, `[] -> 100`?"
   ]
  },
  {
   "cell_type": "markdown",
   "id": "f024548a",
   "metadata": {},
   "source": [
    "Altro esempio, come calcolare il massimo di una lista di elementi **non-negativi**:"
   ]
  },
  {
   "cell_type": "code",
   "execution_count": null,
   "id": "00380eea",
   "metadata": {},
   "outputs": [],
   "source": [
    "let rec max_elem lis = \n",
    "    failwith \"TODO\"\n",
    "\n",
    "max_elem [1; 4; 2; 8];;"
   ]
  },
  {
   "cell_type": "markdown",
   "id": "6e88bd5c",
   "metadata": {},
   "source": [
    "In questi esempi, ogni chiamata a `somma` o a `max` restituisce il risultato parziale sugli elementi restanti della lista"
   ]
  },
  {
   "cell_type": "markdown",
   "id": "b5139ac7",
   "metadata": {
    "slideshow": {
     "slide_type": "slide"
    }
   },
   "source": [
    "Vediamo che cosa succede nello *stack*:\n",
    "\n",
    "![Somma_ric_1](files/images/Somma_ric_1.png)"
   ]
  },
  {
   "cell_type": "markdown",
   "id": "e6fa0cf0",
   "metadata": {
    "slideshow": {
     "slide_type": "slide"
    }
   },
   "source": [
    "A cui segue:\n",
    "\n",
    "![Somma_ric_2](files/images/Somma_ric_2.png)\n",
    "\n",
    "Quindi:\n",
    "* gli elementi della lista vengono in realtà sommati dall'ultimo al primo (da *destra*)\n",
    "* ad ogni passo si applica la funzione/operatore `(+)` che somma due numeri"
   ]
  },
  {
   "cell_type": "markdown",
   "id": "6c6382e0",
   "metadata": {
    "slideshow": {
     "slide_type": "slide"
    }
   },
   "source": [
    "Cerchiamo di estrarre lo schema ricorsivo su cui si basa la funzione `somma`\n",
    "\n",
    "```\n",
    "somma [3;2;4]\n",
    "3 + somma [2;4]\n",
    "3 + (2 + somma [4])\n",
    "3 + (2 + (4 + somma []))\n",
    "3 + (2 + (4 + 0))\n",
    "```\n",
    "\n",
    "Generalizziamo `(+) = f`\n",
    "\n",
    "```\n",
    "f 3 (f 2 (f 4 0))\n",
    "```\n",
    "\n",
    "Generalizziamo `lis = [x1;x2;...;xN]` e caso base restituisce `a` invece che `0`\n",
    "\n",
    "```\n",
    "f x1 (f x2 (... (f xN a)..))\n",
    "```\n"
   ]
  },
  {
   "cell_type": "markdown",
   "id": "f6cbd47b",
   "metadata": {
    "slideshow": {
     "slide_type": "slide"
    }
   },
   "source": [
    "Possiamo scrivere una funzione `fold_right` che realizzi lo schema ricorsivo che abbiamo identificato?\n",
    "Prevede i parametri (oltre alla lista `lis`):\n",
    "\n",
    "* `f`: la funzione che compone un elemento con il risultato parziale del resto della lista\n",
    "* `a`: il risultato corrispondente al caso base (lista vuota `[]`), detto accumulatore\n",
    "\n",
    "Ad ogni passo, applica `f` all'elemento e al risultato ottenuto sul resto della lista"
   ]
  },
  {
   "cell_type": "code",
   "execution_count": null,
   "id": "efc365ae",
   "metadata": {
    "slideshow": {
     "slide_type": "-"
    }
   },
   "outputs": [],
   "source": [
    "let rec somma lis =\n",
    "    match lis with\n",
    "    | [] -> 0\n",
    "    | x::lis' -> x + somma lis' ;;\n",
    "\n",
    "let rec fold_right f lis a = \n",
    "     failwith(\"TODO\")"
   ]
  },
  {
   "cell_type": "markdown",
   "id": "b014a264",
   "metadata": {
    "slideshow": {
     "slide_type": "slide"
    }
   },
   "source": [
    "Usiamo `fold_right` per definire `somma` usando la ricorsione in modo implicito:"
   ]
  },
  {
   "cell_type": "code",
   "execution_count": null,
   "id": "2e38e31b",
   "metadata": {},
   "outputs": [],
   "source": [
    "let somma lis = fold_right (+) lis 0 ;;\n",
    "somma [3;2;4] ;;\n",
    "\n",
    "let max_elem lis = fold_right max lis (-1);;\n",
    "max_elem [1;5;2;3];;"
   ]
  },
  {
   "cell_type": "markdown",
   "id": "26cedd1b",
   "metadata": {},
   "source": [
    "## Esercizi"
   ]
  },
  {
   "cell_type": "markdown",
   "id": "56b3cb14",
   "metadata": {},
   "source": [
    "### Es 1:\n",
    "Unsando `fold_right`, scrivere una funzione `drop_evens l` che prende una lista di interi `l` e scarta tutti gli elementi di `l` con valore pari.\n",
    "\n",
    "    drop_evens [1; 2; 3; 17; 42] = [1; 3; 17]"
   ]
  },
  {
   "cell_type": "code",
   "execution_count": null,
   "id": "0a1faca7",
   "metadata": {},
   "outputs": [],
   "source": []
  },
  {
   "cell_type": "markdown",
   "id": "559e01c0",
   "metadata": {},
   "source": [
    "## Es 2.\n",
    "\n",
    "Sia `l` una lista di interi, che rappresentano i voti dell'esame di Paradigmi di Programmazione. Scrivere, usando una fold, una funzione `sum l` che, presa la lista `l`, restituisce 2 tipi di informazioni: \n",
    " - Se la lista contiene o meno tutti voti validi (ovvero tutti interi compresi fra 18 e 30)\n",
    " - Nel caso in cui siano tutti voti validi, la somma di tutti i voti. \n",
    " \n",
    "Potete scegliere voi in che modo codificare queste due informazioni, idee?"
   ]
  },
  {
   "cell_type": "code",
   "execution_count": null,
   "id": "43174f1a",
   "metadata": {},
   "outputs": [],
   "source": []
  },
  {
   "cell_type": "markdown",
   "id": "35dab704",
   "metadata": {
    "slideshow": {
     "slide_type": "slide"
    }
   },
   "source": [
    "## Fold-left\n",
    "\n",
    "Tornando all'esempio della somma, si può definire una funzione ricorsiva anche così:"
   ]
  },
  {
   "cell_type": "code",
   "execution_count": null,
   "id": "b214d7c3",
   "metadata": {
    "slideshow": {
     "slide_type": "-"
    }
   },
   "outputs": [],
   "source": [
    "let rec somma a lis =\n",
    "    match lis with\n",
    "    | [] -> a\n",
    "    | x::lis' -> somma (a+x) lis' ;;\n",
    "    \n",
    "somma 0 [3;2;4] ;;"
   ]
  },
  {
   "cell_type": "markdown",
   "id": "7f8057b9",
   "metadata": {
    "slideshow": {
     "slide_type": "-"
    }
   },
   "source": [
    "Il risultato parziale viene **passato come parametro** (inizialmente zero) e aggiornato man mano che si incontrano nuovi elementi scandendo la lista dall'inizio alla fine (**da sinistra**)\n",
    "\n",
    "ogni elemento viene combinato con il risultato parziale degli **elementi precedenti**, non successivi"
   ]
  },
  {
   "cell_type": "markdown",
   "id": "87ae5ebd",
   "metadata": {
    "slideshow": {
     "slide_type": "slide"
    }
   },
   "source": [
    "La funzione `fold_left` realizza lo schema ricorsivo che abbiamo identificato"
   ]
  },
  {
   "cell_type": "code",
   "execution_count": null,
   "id": "292332f3",
   "metadata": {
    "slideshow": {
     "slide_type": "-"
    }
   },
   "outputs": [],
   "source": [
    "let rec fold_left f a lis =\n",
    "    match lis with\n",
    "    | [] -> a\n",
    "    | x::lis' -> fold_left f (f a x) lis' ;;"
   ]
  },
  {
   "cell_type": "markdown",
   "id": "8798f4ce",
   "metadata": {
    "slideshow": {
     "slide_type": "-"
    }
   },
   "source": [
    "Prevede i parametri (oltre alla lista `lis`):\n",
    "\n",
    "* `f`: la funzione da applicare ad ogni passo\n",
    "* `a`: il valore iniziale da cui partire con il calcolo\n",
    "\n",
    "Ad ogni passo, richiama ricorsivamente `f` passandogli un valore via via aggiornato"
   ]
  },
  {
   "cell_type": "markdown",
   "id": "201ef048",
   "metadata": {
    "slideshow": {
     "slide_type": "slide"
    }
   },
   "source": [
    "Ora possiamo usare `fold_left` per definire `somma` usando la ricorsione in modo implicito"
   ]
  },
  {
   "cell_type": "code",
   "execution_count": null,
   "id": "b9428ea5",
   "metadata": {},
   "outputs": [],
   "source": [
    "let somma lis = fold_left (+) 0 lis ;;\n",
    "somma [3;2;4] ;;"
   ]
  },
  {
   "cell_type": "markdown",
   "id": "d77486db",
   "metadata": {},
   "source": [
    "**ATTENZIONE:** rispetto alla versione con `fold_right`, i parametri di `f` sono invertiti e anche quelli di `fold_left` hanno un ordine diverso. \n",
    "> Fold destra, accumulatore a destra\n",
    ">\n",
    "> Fold sinistra, accumulatore a sinistra"
   ]
  },
  {
   "cell_type": "markdown",
   "id": "e6d52294",
   "metadata": {},
   "source": [
    "## Esercizi:"
   ]
  },
  {
   "cell_type": "markdown",
   "id": "d18760a5",
   "metadata": {},
   "source": [
    "Usando `fold_left`, scrivere una funzione `take n l` che prende un interno `n` e una lista `l`, e restituisce solo la sottolista iniziale di `n` elementi di `l`. Non usare `List.lenght`"
   ]
  },
  {
   "cell_type": "code",
   "execution_count": null,
   "id": "dd85fa1a",
   "metadata": {},
   "outputs": [],
   "source": []
  },
  {
   "cell_type": "markdown",
   "id": "b4b464f8",
   "metadata": {
    "slideshow": {
     "slide_type": "slide"
    }
   },
   "source": [
    "## Le funzioni su liste nel modulo `List`\n",
    "\n",
    "Le funzioni higher-order su liste sono disponibili nel modulo `List` della libreria standard di OCaml (https://ocaml.org/api/List.html)\n",
    "\n",
    "* `List.exists`\n",
    "* `List.for_all`\n",
    "* `List.filter`\n",
    "* `List.map`\n",
    "* `List.fold_right`\n",
    "* `List.fold_left`\n",
    "\n",
    "Oltre a molte altre funzioni utili:\n",
    "\n",
    "* `List.find`, `List.sort`, `List.partition`, `List.merge`,..."
   ]
  }
 ],
 "metadata": {
  "celltoolbar": "Slideshow",
  "kernelspec": {
   "display_name": "OCaml default",
   "language": "OCaml",
   "name": "ocaml-jupyter"
  },
  "language_info": {
   "codemirror_mode": "text/x-ocaml",
   "file_extension": ".ml",
   "mimetype": "text/x-ocaml",
   "name": "OCaml",
   "nbconverter_exporter": null,
   "pygments_lexer": "OCaml",
   "version": "4.08.1"
  },
  "rise": {
   "enable_chalkboard": true,
   "scroll": true
  }
 },
 "nbformat": 4,
 "nbformat_minor": 5
}
